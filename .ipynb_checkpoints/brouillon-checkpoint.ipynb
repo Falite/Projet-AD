{
 "cells": [
  {
   "cell_type": "markdown",
   "id": "5216d79d-7318-45fc-aaa3-7c1de68439bd",
   "metadata": {},
   "source": [
    "petit brouillon "
   ]
  },
  {
   "cell_type": "code",
   "execution_count": 1,
   "id": "dcc05af1-117d-440b-83c1-6c56cd353eab",
   "metadata": {
    "tags": []
   },
   "outputs": [
    {
     "name": "stdout",
     "output_type": "stream",
     "text": [
      "voici le brouillon\n"
     ]
    }
   ],
   "source": [
    "print(\"voici le brouillon\")"
   ]
  }
 ],
 "metadata": {
  "kernelspec": {
   "display_name": "Python 3 (ipykernel)",
   "language": "python",
   "name": "python3"
  },
  "language_info": {
   "codemirror_mode": {
    "name": "ipython",
    "version": 3
   },
   "file_extension": ".py",
   "mimetype": "text/x-python",
   "name": "python",
   "nbconvert_exporter": "python",
   "pygments_lexer": "ipython3",
   "version": "3.11.5"
  }
 },
 "nbformat": 4,
 "nbformat_minor": 5
}
